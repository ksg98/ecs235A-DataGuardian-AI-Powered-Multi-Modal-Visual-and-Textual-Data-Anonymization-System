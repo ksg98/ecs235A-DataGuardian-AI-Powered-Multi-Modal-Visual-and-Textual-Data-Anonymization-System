{
  "nbformat": 4,
  "nbformat_minor": 0,
  "metadata": {
    "colab": {
      "provenance": [],
      "gpuType": "V28"
    },
    "kernelspec": {
      "name": "python3",
      "display_name": "Python 3"
    },
    "language_info": {
      "name": "python"
    },
    "accelerator": "TPU"
  },
  "cells": [
    {
      "cell_type": "markdown",
      "source": [
        "### Step 2: Utility Functions and Configurations\n",
        "This step defines utility functions for directory management, warning suppression, image encoding, and NLP configurations. It also includes operator configurations for anonymization.\n",
        "\n",
        "Cells included:\n",
        "\n",
        "- Utility functions for directory and file handling.\n",
        "- NLP model definitions.\n",
        "- Operator configurations for Presidio.\n"
      ],
      "metadata": {
        "id": "8jR6ogqhDqgW"
      }
    },
    {
      "cell_type": "code",
      "source": [
        "# Cell 5 - Utility functions\n",
        "import os\n",
        "import shutil\n",
        "import cv2 as cv\n",
        "import base64\n",
        "from typing import List\n",
        "\n",
        "CREATEDIRECTORY = lambda x: os.mkdir(x) if not os.path.exists(x) else None\n",
        "DELETEDIRECTORY = lambda x: shutil.rmtree(x) if len(os.listdir(x)) > 1 else None\n",
        "DELETEFILE = lambda x: os.remove(x) if os.path.exists(x) else None\n",
        "SORTDIRECTORY = lambda x: int(x.rsplit(\"_\",1)[-1].split(\".\")[0])\n",
        "CREATEINPUTURL = lambda x: {\"type\":\"image_url\",\"image_url\":{\"url\":f\"data:image/jpeg;base64,{str(x)}\"}}\n",
        "CREATEINPUTTEXT = lambda x: {\"type\":\"text\",\"text\":str(x)}\n",
        "\n",
        "def TRANSFORMBASE64(initImage:IMAGE)->PROCESS:\n",
        "    success, buffer = cv.imencode(\".jpg\", initImage)\n",
        "    if not success:\n",
        "        raise ValueError(\"COULD NOT ENCODE - ERROR JPEG FORMAT\")\n",
        "    encodedImage = base64.b64encode(buffer).decode(\"utf-8\")\n",
        "    return encodedImage"
      ],
      "metadata": {
        "id": "Rt-USjsFblAd"
      },
      "execution_count": null,
      "outputs": []
    },
    {
      "cell_type": "code",
      "source": [
        "# Cell 6 - Warning filters\n",
        "from warnings import filterwarnings\n",
        "filterwarnings(action=\"ignore\", category=DeprecationWarning)\n",
        "filterwarnings(action=\"ignore\", category=UserWarning)\n",
        "filterwarnings(action=\"ignore\", category=FutureWarning)"
      ],
      "metadata": {
        "id": "7OEc-lNaboQg"
      },
      "execution_count": null,
      "outputs": []
    },
    {
      "cell_type": "code",
      "source": [
        "# Cell 7 - NLP configurations\n",
        "def DEFINELANGUAGE(initLanguage:str)->CONFIGURATION:\n",
        "    if initLanguage.lower() == \"es\":\n",
        "        modelType = \"es_core_news_md\"\n",
        "    elif initLanguage.lower() == \"en\":\n",
        "        modelType = \"en_core_web_lg\"\n",
        "    elif initLanguage.lower() == \"fr\":\n",
        "        modelType = \"fr_core_news_sm\"\n",
        "    elif initLanguage.lower() == \"de\":\n",
        "        modelType = \"de_core_news_sm\"\n",
        "    elif initLanguage.lower() == \"ru\":\n",
        "        modelType = \"ru_core_news_sm\"\n",
        "    elif initLanguage.lower() == \"nl\":\n",
        "        modelType = \"nl_core_news_sm\"\n",
        "    else:\n",
        "        modelType = \"xx_sent_ud_sm\"\n",
        "\n",
        "    NLPENGINECONFIGURATION = {\n",
        "        \"nlp_engine_name\": \"spacy\",\n",
        "        \"models\": [\n",
        "            {\n",
        "                \"lang_code\": initLanguage.lower(),\n",
        "                \"model_name\": modelType\n",
        "            }\n",
        "        ]\n",
        "    }\n",
        "    return NLPENGINECONFIGURATION\n"
      ],
      "metadata": {
        "id": "ruvOWkM7bsQu"
      },
      "execution_count": null,
      "outputs": []
    },
    {
      "cell_type": "code",
      "source": [
        "# Cell 8 - Operator configurations\n",
        "from presidio_anonymizer.entities import OperatorConfig\n",
        "\n",
        "OPERATORGENERAL = {\n",
        "    \"DEFAULT\": OperatorConfig(\"replace\", {\"new_value\": \"-DETECTED_CONCERN-\"}),\n",
        "    \"PHONE_NUMBER\": OperatorConfig(\"replace\", {\"new_value\": \"-MASKED_PHONENUMBER_RELATED-\"}),\n",
        "    \"TITLE\": OperatorConfig(\"replace\", {\"new_value\": \"-MASKED_TITLE_RELATED-\"}),\n",
        "    \"EMAIL_ADDRESS\": OperatorConfig(\"replace\", {\"new_value\": \"-MASKED_EMAIL_RELATED-\"}),\n",
        "    \"CREDIT_CARD\": OperatorConfig(\"replace\", {\"new_value\": \"-MASKED_CREDITCARD_RELATED-\"}),\n",
        "    \"LOCATION\": OperatorConfig(\"replace\", {\"new_value\": \"-MASKED_LOCATION_RELATED-\"}),\n",
        "    \"URL\": OperatorConfig(\"replace\", {\"new_value\": \"-MASKED_URL_RELATED-\"}),\n",
        "    \"DATE_TIME\": OperatorConfig(\"replace\", {\"new_value\": \"-MASKED_DATETIME_RELATED-\"}),\n",
        "    \"CRYPTO\": OperatorConfig(\"replace\", {\"new_value\": \"-MASKED_CRYPTO_RELATED-\"}),\n",
        "    \"NRP\": OperatorConfig(\"replace\", {\"new_value\": \"-MASKED_NRP_RELATED-\"}),\n",
        "    \"IBAN_CODE\": OperatorConfig(\"replace\", {\"new_value\": \"-MASKED_IBAN_RELATED-\"}),\n",
        "    \"PERSON\": OperatorConfig(\"replace\", {\"new_value\": \"-MASKED_PERSON_RELATED-\"}),\n",
        "    \"MEDICAL_LICENSE\": OperatorConfig(\"replace\", {\"new_value\": \"-MASKED_MEDICAL_RELATED-\"})\n",
        "}"
      ],
      "metadata": {
        "id": "LJtRAZbxbu3t"
      },
      "execution_count": null,
      "outputs": []
    }
  ]
}